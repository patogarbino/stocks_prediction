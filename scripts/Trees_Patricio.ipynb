{
 "cells": [
  {
   "cell_type": "code",
   "execution_count": 115,
   "id": "5698d0db-0842-4c9b-86c2-09c9b2f87227",
   "metadata": {},
   "outputs": [],
   "source": [
    "import pandas as pd\n",
    "import numpy as np\n",
    "import seaborn as sns\n",
    "import matplotlib.pyplot as plt\n",
    "from sklearn import set_config; set_config(display='diagram')\n",
    "from sklearn.impute import KNNImputer\n",
    "from sklearn.impute import SimpleImputer\n",
    "from sklearn.compose import make_column_transformer\n",
    "from sklearn.pipeline import make_pipeline\n",
    "from sklearn.preprocessing import StandardScaler\n",
    "from sklearn.model_selection import cross_validate"
   ]
  },
  {
   "cell_type": "code",
   "execution_count": 116,
   "id": "81536ba5-c89d-4532-a23e-a11d01ac210e",
   "metadata": {},
   "outputs": [],
   "source": [
    "df = pd.read_csv('../data/stocks_quarterly.csv')"
   ]
  },
  {
   "cell_type": "code",
   "execution_count": 117,
   "id": "fcbabdd5-2b4a-42ff-a792-b548980589a3",
   "metadata": {},
   "outputs": [],
   "source": [
    "cols_to_drop = df.isnull().mean().sort_values(ascending = False).head(45).index"
   ]
  },
  {
   "cell_type": "code",
   "execution_count": 118,
   "id": "799d0fed-56fd-41dd-b8ce-5dd45e56b5da",
   "metadata": {},
   "outputs": [],
   "source": [
    "cols_to_drop = list(cols_to_drop) + ['fiscalDateEnding','reportedDate','price','nasd_price','next_year_date','next_year_price','nasd_ny_price','symbol','Nasdaq_Performance', 'Stock_Performance','Label']"
   ]
  },
  {
   "cell_type": "code",
   "execution_count": 119,
   "id": "fdc511a3-0c05-4a62-aeb0-30daa0c2c921",
   "metadata": {},
   "outputs": [],
   "source": [
    "columns = list(df.columns)\n",
    "\n",
    "for colum in cols_to_drop:\n",
    "    columns.remove(colum)"
   ]
  },
  {
   "cell_type": "code",
   "execution_count": 120,
   "id": "cea6bde5-c0f7-4479-ad26-536659852780",
   "metadata": {},
   "outputs": [],
   "source": [
    "X = df.drop(columns = 'Label')\n",
    "y = df.Label"
   ]
  },
  {
   "cell_type": "code",
   "execution_count": 121,
   "id": "babd459f-1bc2-4122-8492-035c2be07109",
   "metadata": {},
   "outputs": [],
   "source": [
    "from sklearn.model_selection import train_test_split\n",
    "\n",
    "X_train, X_test, y_train, y_test = train_test_split(X,y,test_size= 0.2)"
   ]
  },
  {
   "cell_type": "code",
   "execution_count": 122,
   "id": "5d260286-3228-47f3-9504-622bd610d00e",
   "metadata": {},
   "outputs": [],
   "source": [
    "column_transformer = make_column_transformer((KNNImputer(),columns),\n",
    "                                              remainder=\"drop\")\n",
    "\n",
    "pipline = make_pipeline(column_transformer, StandardScaler())"
   ]
  },
  {
   "cell_type": "code",
   "execution_count": 123,
   "id": "7796a5cb-1337-48f5-aa05-83c828a28271",
   "metadata": {},
   "outputs": [],
   "source": [
    "X_train = pipline.fit_transform(X_train)\n",
    "X_test = pipline.transform(X_test)"
   ]
  },
  {
   "cell_type": "code",
   "execution_count": 124,
   "id": "3d355433-721a-4708-a5e0-aa2799529d6d",
   "metadata": {},
   "outputs": [],
   "source": [
    "from sklearn.ensemble import RandomForestClassifier\n",
    "\n",
    "forest = RandomForestClassifier(max_depth=110, max_features=3, min_samples_leaf=3,\n",
    "                      min_samples_split=8, n_estimators=200)\n",
    "\n",
    "cv = cross_validate(forest,X_train,y_train,cv =5, scoring = ['accuracy','precision'] )"
   ]
  },
  {
   "cell_type": "code",
   "execution_count": 125,
   "id": "e754b0c4-46bc-4a47-a48a-2704653fa924",
   "metadata": {},
   "outputs": [
    {
     "data": {
      "text/plain": [
       "0.6963318596948477"
      ]
     },
     "execution_count": 125,
     "metadata": {},
     "output_type": "execute_result"
    }
   ],
   "source": [
    "cv['test_precision'].mean()"
   ]
  },
  {
   "cell_type": "code",
   "execution_count": 126,
   "id": "e56c48e8-c1fe-4c03-b66c-c67c42c49ce6",
   "metadata": {},
   "outputs": [],
   "source": [
    "from sklearn.metrics import confusion_matrix"
   ]
  },
  {
   "cell_type": "code",
   "execution_count": 127,
   "id": "848d4a72-5b47-4a1e-bd40-86277c1cbcf5",
   "metadata": {},
   "outputs": [],
   "source": [
    "forest.fit(X_train,y_train)\n",
    "y_pred = forest.predict(X_test)"
   ]
  },
  {
   "cell_type": "code",
   "execution_count": 129,
   "id": "388af77a-367b-4716-835c-fd6ac07b7919",
   "metadata": {},
   "outputs": [],
   "source": [
    "matrix = confusion_matrix(y_test,y_pred,labels = [1,0])"
   ]
  },
  {
   "cell_type": "code",
   "execution_count": 134,
   "id": "1589763e-748f-4b46-82ae-0d36bc558ef8",
   "metadata": {},
   "outputs": [
    {
     "data": {
      "text/plain": [
       "0.7126436781609196"
      ]
     },
     "execution_count": 134,
     "metadata": {},
     "output_type": "execute_result"
    }
   ],
   "source": [
    "matrix[0][0]/(matrix[0][0]+matrix[1][0])"
   ]
  },
  {
   "cell_type": "code",
   "execution_count": null,
   "id": "5199ca40-267f-487f-ba3d-653a48287c3b",
   "metadata": {},
   "outputs": [],
   "source": [
    "\n",
    "# automatic svm hyperparameter tuning using skopt for the ionosphere dataset\n",
    "from pandas import read_csv\n",
    "from sklearn.model_selection import cross_val_score\n",
    "from sklearn.svm import SVC\n",
    "from sklearn.model_selection import RepeatedStratifiedKFold\n",
    "from skopt import BayesSearchCV\n",
    "# load dataset\n",
    "url = 'https://raw.githubusercontent.com/jbrownlee/Datasets/master/ionosphere.csv'\n",
    "dataframe = read_csv(url, header=None)\n",
    "# split into input and output elements\n",
    "data = dataframe.values\n",
    "X, y = data[:, :-1], data[:, -1]\n",
    "print(X.shape, y.shape)\n",
    "# define search space\n",
    "params = dict()\n",
    "params['C'] = (1e-6, 100.0, 'log-uniform')\n",
    "params['gamma'] = (1e-6, 100.0, 'log-uniform')\n",
    "params['degree'] = (1,5)\n",
    "params['kernel'] = ['linear', 'poly', 'rbf', 'sigmoid']\n",
    "# define evaluation\n",
    "cv = RepeatedStratifiedKFold(n_splits=10, n_repeats=3, random_state=1)\n",
    "# define the search\n",
    "search = BayesSearchCV(estimator=SVC(), search_spaces=params, n_jobs=-1, cv=cv)\n",
    "# perform the search\n",
    "search.fit(X, y)\n",
    "# report the best result\n",
    "print(search.best_score_)\n",
    "print(search.best_params_)"
   ]
  }
 ],
 "metadata": {
  "kernelspec": {
   "display_name": "Python 3 (ipykernel)",
   "language": "python",
   "name": "python3"
  },
  "language_info": {
   "codemirror_mode": {
    "name": "ipython",
    "version": 3
   },
   "file_extension": ".py",
   "mimetype": "text/x-python",
   "name": "python",
   "nbconvert_exporter": "python",
   "pygments_lexer": "ipython3",
   "version": "3.8.12"
  }
 },
 "nbformat": 4,
 "nbformat_minor": 5
}
